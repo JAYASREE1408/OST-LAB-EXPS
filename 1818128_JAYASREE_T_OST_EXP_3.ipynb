{
  "nbformat": 4,
  "nbformat_minor": 0,
  "metadata": {
    "colab": {
      "name": "1818128_JAYASREE T_OST_EXP 3",
      "provenance": [],
      "authorship_tag": "ABX9TyNadTnKj+JzCvyolhyupW2A",
      "include_colab_link": true
    },
    "kernelspec": {
      "name": "python3",
      "display_name": "Python 3"
    }
  },
  "cells": [
    {
      "cell_type": "markdown",
      "metadata": {
        "id": "view-in-github",
        "colab_type": "text"
      },
      "source": [
        "<a href=\"https://colab.research.google.com/github/JAYASREE1408/OST-LAB-EXPS/blob/main/1818128_JAYASREE_T_OST_EXP_3.ipynb\" target=\"_parent\"><img src=\"https://colab.research.google.com/assets/colab-badge.svg\" alt=\"Open In Colab\"/></a>"
      ]
    },
    {
      "cell_type": "markdown",
      "metadata": {
        "id": "5AyWf7588Epr"
      },
      "source": [
        "\n",
        "# **OPEN SOURCE TOOLS LABORATORY**\n",
        "\n",
        "---------\n",
        "# **1818128_JAYASREE T**\n",
        "#**✫ EXP 3 : SIMPLE PROGRAMS IN PYTHON**\n"
      ]
    },
    {
      "cell_type": "markdown",
      "metadata": {
        "id": "0TupAxBF8PEc"
      },
      "source": [
        "# **3 a. Write a python script to sort n numbers using lists without using built-in functions.**"
      ]
    },
    {
      "cell_type": "code",
      "metadata": {
        "colab": {
          "base_uri": "https://localhost:8080/"
        },
        "id": "ep8KRaJT38JL",
        "outputId": "ea5d9cba-c1d3-4451-9e61-e74961779b5a"
      },
      "source": [
        "n=int(input(\"enter the number of elements:\"))\n",
        "print(\"Enter the values:\")\n",
        "list=[int(input()) for x in range(n)]\n",
        "\n",
        "for i in range(0,n-1):\n",
        "  for j in range(0,n-i-1):\n",
        "    if(list[j]>list[j+1]):\n",
        "      temp=list[j+1]\n",
        "      list[j+1]=list[j]\n",
        "      list[j]=temp\n",
        "print(\"Sorted list:\")\n",
        "print(list)"
      ],
      "execution_count": null,
      "outputs": [
        {
          "output_type": "stream",
          "text": [
            "enter the number of elements:6\n",
            "Enter the values:\n",
            "8\n",
            "3\n",
            "5\n",
            "2\n",
            "9\n",
            "1\n",
            "Sorted list:\n",
            "[1, 2, 3, 5, 8, 9]\n"
          ],
          "name": "stdout"
        }
      ]
    },
    {
      "cell_type": "markdown",
      "metadata": {
        "id": "DkZF0S4B8U18"
      },
      "source": [
        "# **3 b. Write a python script to accept a list with different datatypes - int, string and float(heterogeneous) and partition it into 3 lists each of which contains same data types(homogeneous)**"
      ]
    },
    {
      "cell_type": "code",
      "metadata": {
        "colab": {
          "base_uri": "https://localhost:8080/"
        },
        "id": "rLLn0H3y4QYa",
        "outputId": "169837e6-c364-401f-b839-03ab473cff14"
      },
      "source": [
        "list1 = [1,2,3,4.0,'character','Jayasree',5.0,6]\n",
        "list2=[]\n",
        "list3=[]\n",
        "list4=[]\n",
        "for i in range(0,len(list1)):\n",
        "  if type(list1[i]) is int:\n",
        "    list2.append(list1[i])\n",
        "  if type(list1[i]) is float:\n",
        "    list3.append(list1[i])\n",
        "  if type(list1[i]) is str:\n",
        "    list4.append(list1[i])\n",
        "print(\"Given list:\",list1)\n",
        "print(\"List with integer type elements\",list2)\n",
        "print(\"List with float type elements\",list3)\n",
        "print(\"List with string type type elements\",list4)"
      ],
      "execution_count": null,
      "outputs": [
        {
          "output_type": "stream",
          "text": [
            "Given list: [1, 2, 3, 4.0, 'character', 'Jayasree', 5.0, 6]\n",
            "List with integer type elements [1, 2, 3, 6]\n",
            "List with float type elements [4.0, 5.0]\n",
            "List with string type type elements ['character', 'Jayasree']\n"
          ],
          "name": "stdout"
        }
      ]
    },
    {
      "cell_type": "markdown",
      "metadata": {
        "id": "QRDatCFd8cLN"
      },
      "source": [
        "# **3 c. Write a python script to create a dictionary of minimum five key/value pairs. Implement search, modification and removal of elements from the dictionary.**"
      ]
    },
    {
      "cell_type": "code",
      "metadata": {
        "colab": {
          "base_uri": "https://localhost:8080/"
        },
        "id": "U6TxME9Q4QTz",
        "outputId": "0f3b95f5-da3c-414a-c233-e8bb749015fc"
      },
      "source": [
        "dict1={\"101\":\"Aaisha\",\"128\":\"Jayasree\",\"134\":\"Kalpana\",\"140\":\"Pradeep\",\"158\":\"Sreesha\"}\n",
        "data=1\n",
        "print(dict1)\n",
        "while data==1:\n",
        "  print(\"1.Search\\n2.Modification\\n3.Remove\\n\")\n",
        "  choice=int(input(\"Enter your choice:\"))\n",
        "  if choice==1:\n",
        "    key=input(\"Enter Key:\")\n",
        "    print(dict1.get(key))\n",
        "  if choice==2:\n",
        "    key=input(\"Enter Key:\")\n",
        "    value=input(\"Enter value:\")\n",
        "    dict1.update({key:value})\n",
        "  if choice==3:\n",
        "    key=input(\"Enter Key:\")\n",
        "    print(dict1.pop(key))\n",
        "  print(dict1)\n",
        "  data=int(input(\"Press 1 to continue....\"))"
      ],
      "execution_count": null,
      "outputs": [
        {
          "output_type": "stream",
          "text": [
            "{'101': 'Aaisha', '128': 'Jayasree', '134': 'Kalpana', '140': 'Pradeep', '158': 'Sreesha'}\n",
            "1.Search\n",
            "2.Modification\n",
            "3.Remove\n",
            "\n",
            "Enter your choice:1\n",
            "Enter Key:128\n",
            "Jayasree\n",
            "{'101': 'Aaisha', '128': 'Jayasree', '134': 'Kalpana', '140': 'Pradeep', '158': 'Sreesha'}\n",
            "Press 1 to continue....1\n",
            "1.Search\n",
            "2.Modification\n",
            "3.Remove\n",
            "\n",
            "Enter your choice:2\n",
            "Enter Key:140\n",
            "Enter value:Praveen\n",
            "{'101': 'Aaisha', '128': 'Jayasree', '134': 'Kalpana', '140': 'Praveen', '158': 'Sreesha'}\n",
            "Press 1 to continue....1\n",
            "1.Search\n",
            "2.Modification\n",
            "3.Remove\n",
            "\n",
            "Enter your choice:3\n",
            "Enter Key:134\n",
            "Kalpana\n",
            "{'101': 'Aaisha', '128': 'Jayasree', '140': 'Praveen', '158': 'Sreesha'}\n",
            "Press 1 to continue....0\n"
          ],
          "name": "stdout"
        }
      ]
    },
    {
      "cell_type": "markdown",
      "metadata": {
        "id": "Cm0wsAA48fJn"
      },
      "source": [
        "# **3 d. Write a python script to create a tuple containing both odd and even numbers. Divide the tuple into two each of which contains odd numbers and even numbers.**"
      ]
    },
    {
      "cell_type": "code",
      "metadata": {
        "colab": {
          "base_uri": "https://localhost:8080/"
        },
        "id": "navkd6xm4QPq",
        "outputId": "6aa5b3c1-4ea1-4639-e8c2-0142f7af8af7"
      },
      "source": [
        "t1=(2,45,67,34,25,50,99,102,144,1,6)\n",
        "odd_list=[]\n",
        "even_list=[]\n",
        "for i in t1:\n",
        "  if i%2==0:\n",
        "    even_list.append(i)\n",
        "  else:\n",
        "    odd_list.append(i)\n",
        "odd_tuple=tuple(odd_list)\n",
        "even_tuple=tuple(even_list)\n",
        "print(\"Given tuple: \",t1)\n",
        "print(\"Even tuple: \",even_tuple)\n",
        "print(\"Odd tuple: \",odd_tuple)"
      ],
      "execution_count": null,
      "outputs": [
        {
          "output_type": "stream",
          "text": [
            "Given tuple:  (2, 45, 67, 34, 25, 50, 99, 102, 144, 1, 6)\n",
            "Even tuple:  (2, 34, 50, 102, 144, 6)\n",
            "Odd tuple:  (45, 67, 25, 99, 1)\n"
          ],
          "name": "stdout"
        }
      ]
    }
  ]
}