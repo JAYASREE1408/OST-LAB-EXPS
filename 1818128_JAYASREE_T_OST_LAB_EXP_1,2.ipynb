{
  "nbformat": 4,
  "nbformat_minor": 0,
  "metadata": {
    "colab": {
      "name": "1818128_JAYASREE T_OST LAB EXP - 1,2",
      "provenance": [],
      "authorship_tag": "ABX9TyOpp5kdYHo4M0h3mHSsPaxD",
      "include_colab_link": true
    },
    "kernelspec": {
      "name": "python3",
      "display_name": "Python 3"
    }
  },
  "cells": [
    {
      "cell_type": "markdown",
      "metadata": {
        "id": "view-in-github",
        "colab_type": "text"
      },
      "source": [
        "<a href=\"https://colab.research.google.com/github/JAYASREE1408/OST-LAB-EXPS/blob/main/1818128_JAYASREE_T_OST_LAB_EXP_1%2C2.ipynb\" target=\"_parent\"><img src=\"https://colab.research.google.com/assets/colab-badge.svg\" alt=\"Open In Colab\"/></a>"
      ]
    },
    {
      "cell_type": "markdown",
      "metadata": {
        "id": "z42nKMBJSDYx"
      },
      "source": [
        "\r\n",
        "# **OPEN SOURCE TOOLS LABORATORY**\r\n",
        "\r\n",
        "---------\r\n",
        "# **1818128_JAYASREE T**\r\n",
        "#**✫ EXP 1 : SIMPLE PROGRAMS IN PYTHON**\r\n",
        "\r\n",
        "\r\n",
        "\r\n",
        "\r\n",
        "\r\n",
        "\r\n",
        "\r\n",
        "\r\n",
        "\r\n"
      ]
    },
    {
      "cell_type": "markdown",
      "metadata": {
        "id": "Of5Rt69zTviF"
      },
      "source": [
        "# **1 a) To create a simple calculator in python**"
      ]
    },
    {
      "cell_type": "code",
      "metadata": {
        "colab": {
          "base_uri": "https://localhost:8080/"
        },
        "id": "sInvp0WdKLDm",
        "outputId": "55ccd48b-04f8-42cd-9389-ffed132bfa14"
      },
      "source": [
        "a=int(input(\"Enter the 1st number:\"))\r\n",
        "b=int(input(\"Enter the 2nd number:\"))\r\n",
        "print(\"1.Addition\\n2.Subtraction\\n3.Multiplication\\n4.Division\")\r\n",
        "n=1\r\n",
        "while n==1:\r\n",
        "  choice=int(input(\"Enter your choice:\"))\r\n",
        "  if choice==1:\r\n",
        "    print(\"The value after addition is\",a+b)\r\n",
        "  elif choice==2:\r\n",
        "    print(\"The value after subtraction is\",a-b)\r\n",
        "  elif choice==3:\r\n",
        "    print(\"The value after multiplication is\",a*b)\r\n",
        "  elif choice==4:\r\n",
        "    print(\"The value after division is\",a//b)\r\n",
        "  else:\r\n",
        "    print(\"Invalid Choice\")\r\n",
        "  n=int(input(\"Press 1 to continue1...\"))\r\n",
        "print(\"The process is completed successfully!\")"
      ],
      "execution_count": null,
      "outputs": [
        {
          "output_type": "stream",
          "text": [
            "Enter the 1st number:40\n",
            "Enter the 2nd number:5\n",
            "1.Addition\n",
            "2.Subtraction\n",
            "3.Multiplication\n",
            "4.Division\n",
            "Enter your choice:1\n",
            "The value after addition is 45\n",
            "Press 1 to continue...1\n",
            "Enter your choice:2\n",
            "The value after subtraction is 35\n",
            "Press 1 to continue...1\n",
            "Enter your choice:3\n",
            "The value after multiplication is 200\n",
            "Press 1 to continue...1\n",
            "Enter your choice:4\n",
            "The value after division is 8\n",
            "Press 1 to continue...1\n",
            "Enter your choice:5\n",
            "Invalid Choice\n",
            "Press 1 to continue...0\n",
            "The process completed successfully!\n"
          ],
          "name": "stdout"
        }
      ]
    },
    {
      "cell_type": "markdown",
      "metadata": {
        "id": "wOCs-_4-Ul2e"
      },
      "source": [
        "# **1 b) Python program to implement stack using array**"
      ]
    },
    {
      "cell_type": "code",
      "metadata": {
        "colab": {
          "base_uri": "https://localhost:8080/"
        },
        "id": "bSf8OLryKKwt",
        "outputId": "33498247-ef8a-4ba7-f241-b64546bb7946"
      },
      "source": [
        "A=[]\r\n",
        "count=0\r\n",
        "print(\"1.Push\\n2.Pop\\n3.Top\")\r\n",
        "x=1\r\n",
        "while x==1:\r\n",
        "  option=int(input(\"Enter the choice:\"))\r\n",
        "  if option==1:\r\n",
        "    element=int(input(\"Enter the element to be pushed:\"))\r\n",
        "    count+=1\r\n",
        "    A.append(element)\r\n",
        "  elif option==2:\r\n",
        "    if count==0:\r\n",
        "      print(\"It is empty.Can't be deleted.\") \r\n",
        "    else:\r\n",
        "      print(\"Deleted element is\",A[count-1])\r\n",
        "      count-=1\r\n",
        "      A.pop()\r\n",
        "  elif option==3:\r\n",
        "    if count==0:\r\n",
        "      print(\"The list is empty\")\r\n",
        "    else:\r\n",
        "      print(\"Top of the stack:\",A[count-1])\r\n",
        "  else:\r\n",
        "    print(\"Invalid Choice\") \r\n",
        "  x=int(input(\"Press 1 to continue...\"))\r\n",
        "print(\"The process completed\")"
      ],
      "execution_count": null,
      "outputs": [
        {
          "output_type": "stream",
          "text": [
            "1.Push\n",
            "2.Pop\n",
            "3.Top\n",
            "Enter the choice:1\n",
            "Enter the element to be pushed:20\n",
            "Press 1 to continue...1\n",
            "Enter the choice:1\n",
            "Enter the element to be pushed:35\n",
            "Press 1 to continue...1\n",
            "Enter the choice:1\n",
            "Enter the element to be pushed:47\n",
            "Press 1 to continue...1\n",
            "Enter the choice:2\n",
            "Deleted element is 47\n",
            "Press 1 to continue...1\n",
            "Enter the choice:3\n",
            "Top of the stack: 35\n",
            "Press 1 to continue...0\n",
            "The process completed\n"
          ],
          "name": "stdout"
        }
      ]
    },
    {
      "cell_type": "markdown",
      "metadata": {
        "id": "Vmt2LbUgU5zN"
      },
      "source": [
        "# **1 c) Python program to convert celcius to fahrenheit**"
      ]
    },
    {
      "cell_type": "code",
      "metadata": {
        "colab": {
          "base_uri": "https://localhost:8080/"
        },
        "id": "yaQVeGxZGsVy",
        "outputId": "091bc866-fbb0-4254-ac25-7310b7248183"
      },
      "source": [
        "celsius = int(input(\"Enter temperature in celsius: \"))\r\n",
        "fahrenheit = (celsius * 1.8) + 32\r\n",
        "print(\"The value of the Fahrenheit is : \",fahrenheit)"
      ],
      "execution_count": null,
      "outputs": [
        {
          "output_type": "stream",
          "text": [
            "Enter temperature in celsius: 35\n",
            "The value of the Fahrenheit is :  95.0\n"
          ],
          "name": "stdout"
        }
      ]
    },
    {
      "cell_type": "code",
      "metadata": {
        "id": "N5Dc1ELbdEaX"
      },
      "source": [
        ""
      ],
      "execution_count": null,
      "outputs": []
    },
    {
      "cell_type": "code",
      "metadata": {
        "id": "eT8PJMrTdEJ-"
      },
      "source": [
        ""
      ],
      "execution_count": null,
      "outputs": []
    },
    {
      "cell_type": "code",
      "metadata": {
        "id": "mjZS3QWNdD68"
      },
      "source": [
        ""
      ],
      "execution_count": null,
      "outputs": []
    },
    {
      "cell_type": "code",
      "metadata": {
        "id": "hpR2Z7l6dDRO"
      },
      "source": [
        ""
      ],
      "execution_count": null,
      "outputs": []
    },
    {
      "cell_type": "code",
      "metadata": {
        "id": "cTDrMXQxdDAz"
      },
      "source": [
        ""
      ],
      "execution_count": null,
      "outputs": []
    },
    {
      "cell_type": "code",
      "metadata": {
        "id": "I3vh7xq_dIO6"
      },
      "source": [
        ""
      ],
      "execution_count": null,
      "outputs": []
    },
    {
      "cell_type": "code",
      "metadata": {
        "id": "guQdQinmdCrk"
      },
      "source": [
        ""
      ],
      "execution_count": null,
      "outputs": []
    },
    {
      "cell_type": "markdown",
      "metadata": {
        "id": "VVKUy5LFaa6D"
      },
      "source": [
        "#**✫ EXP 2 : SIMPLE PYTHON PROGRAMS**"
      ]
    },
    {
      "cell_type": "markdown",
      "metadata": {
        "id": "Wt7_uG27S67g"
      },
      "source": [
        "#**2 a) Python program to find the largest among three numbers**"
      ]
    },
    {
      "cell_type": "code",
      "metadata": {
        "colab": {
          "base_uri": "https://localhost:8080/"
        },
        "id": "L3UQSgrHOgE1",
        "outputId": "0f50e4e3-f925-44a6-b09f-0297ff5b1f02"
      },
      "source": [
        "num1 = int(input(\"Enter the first number: \"))\r\n",
        "num2 = int(input(\"Enter the second number: \"))\r\n",
        "num3 = int(input(\"Enter the third number: \"))\r\n",
        "\r\n",
        "if (num1 >= num2) and (num1 >= num3):\r\n",
        "   largest = num1\r\n",
        "elif (num2 >= num1) and (num2 >= num3):\r\n",
        "   largest = num2\r\n",
        "else:\r\n",
        "   largest = num3\r\n",
        "\r\n",
        "print(\"The largest number is : \", largest)"
      ],
      "execution_count": null,
      "outputs": [
        {
          "output_type": "stream",
          "text": [
            "Enter the first number: 36\n",
            "Enter the second number: 60\n",
            "Enter the third number: 12\n",
            "The largest number is :  60\n"
          ],
          "name": "stdout"
        }
      ]
    },
    {
      "cell_type": "markdown",
      "metadata": {
        "id": "65QMHw2uTRok"
      },
      "source": [
        "# **2 b) Python program to print the Fibonacci sequence**"
      ]
    },
    {
      "cell_type": "code",
      "metadata": {
        "colab": {
          "base_uri": "https://localhost:8080/"
        },
        "id": "YKLFJFcMPjgR",
        "outputId": "3ed1d66a-13da-4f7b-f283-7a4cd6990b3a"
      },
      "source": [
        "n = int(input(\"Enter the number of terms for the fibonacci series:\"))\r\n",
        "counter = 0\r\n",
        "first = 0\r\n",
        "second = 1\r\n",
        "temp = 0 \r\n",
        "print(\"The Fibonacci Series is : \")\r\n",
        "\r\n",
        "if(n>=1):\r\n",
        "  while counter < n:\r\n",
        "    print(first)\r\n",
        "    temp = first + second\r\n",
        "    first = second\r\n",
        "    second = temp\r\n",
        "    counter = counter + 1\r\n",
        "else :\r\n",
        "  print(\"Enter a valid input!\")"
      ],
      "execution_count": null,
      "outputs": [
        {
          "output_type": "stream",
          "text": [
            "Enter the number of terms for the fibonacci series:8\n",
            "The Fibonacci Series is : \n",
            "0\n",
            "1\n",
            "1\n",
            "2\n",
            "3\n",
            "5\n",
            "8\n",
            "13\n"
          ],
          "name": "stdout"
        }
      ]
    },
    {
      "cell_type": "markdown",
      "metadata": {
        "id": "DBhSPDTXThKq"
      },
      "source": [
        "# **2 c) Python program to reverse the given number**"
      ]
    },
    {
      "cell_type": "code",
      "metadata": {
        "colab": {
          "base_uri": "https://localhost:8080/"
        },
        "id": "oYRi58CJROlL",
        "outputId": "2c34d50e-99a8-4eb2-f111-a87a3d1046b5"
      },
      "source": [
        "number=int(input(\"Enter the number to be reversed : \"))\r\n",
        "rev=0\r\n",
        "while number>0:\r\n",
        "  rem=number%10\r\n",
        "  rev=(rev*10)+rem\r\n",
        "  number=number//10\r\n",
        "print(\"The reversed number is : \",rev)"
      ],
      "execution_count": null,
      "outputs": [
        {
          "output_type": "stream",
          "text": [
            "Enter the number to be reversed : 493\n",
            "The reversed number is :  394\n"
          ],
          "name": "stdout"
        }
      ]
    }
  ]
}