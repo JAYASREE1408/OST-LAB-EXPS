{
  "nbformat": 4,
  "nbformat_minor": 0,
  "metadata": {
    "colab": {
      "name": "1818128_JAYASREE T_OST_EXP 4",
      "provenance": [],
      "authorship_tag": "ABX9TyOjeyAo/0NMe4hJtCtG5keY",
      "include_colab_link": true
    },
    "kernelspec": {
      "name": "python3",
      "display_name": "Python 3"
    }
  },
  "cells": [
    {
      "cell_type": "markdown",
      "metadata": {
        "id": "view-in-github",
        "colab_type": "text"
      },
      "source": [
        "<a href=\"https://colab.research.google.com/github/JAYASREE1408/OST-LAB-EXPS/blob/main/1818128_JAYASREE_T_OST_EXP_4.ipynb\" target=\"_parent\"><img src=\"https://colab.research.google.com/assets/colab-badge.svg\" alt=\"Open In Colab\"/></a>"
      ]
    },
    {
      "cell_type": "markdown",
      "metadata": {
        "id": "5AyWf7588Epr"
      },
      "source": [
        "\n",
        "# **OPEN SOURCE TOOLS LABORATORY**\n",
        "\n",
        "---------\n",
        "# **1818128_JAYASREE T**\n",
        "#**✫ EXP 4 : STRING FORMATTING**\n"
      ]
    },
    {
      "cell_type": "markdown",
      "metadata": {
        "id": "3o1vO7LYAxTj"
      },
      "source": [
        "# **4 a.\tWrite a Python program to count the occurrences of each word in a given sentence.**"
      ]
    },
    {
      "cell_type": "code",
      "metadata": {
        "colab": {
          "base_uri": "https://localhost:8080/"
        },
        "id": "afaSBStm-a15",
        "outputId": "8d01ae22-433d-4fba-ae5b-a35bd9dc9d5e"
      },
      "source": [
        "sent=input(\"Enter a Sentence:\")\n",
        "count=dict()\n",
        "word=sent.split()\n",
        "for i in word:\n",
        "  if i in count:\n",
        "    count[i]+=1\n",
        "  else:\n",
        "    count[i]=1\n",
        "print(count)"
      ],
      "execution_count": null,
      "outputs": [
        {
          "output_type": "stream",
          "text": [
            "Enter a Sentence:Hello Guys How are you Guys\n",
            "{'Hello': 1, 'Guys': 2, 'How': 1, 'are': 1, 'you': 1}\n"
          ],
          "name": "stdout"
        }
      ]
    },
    {
      "cell_type": "markdown",
      "metadata": {
        "id": "Hk0K_Jl-AzLS"
      },
      "source": [
        "# **4 b.\tWrite a Python program to get a string from a given string where all occurrences of its first char have been changed to '$', except the first char itself.**"
      ]
    },
    {
      "cell_type": "code",
      "metadata": {
        "colab": {
          "base_uri": "https://localhost:8080/"
        },
        "id": "028AOh76-7vU",
        "outputId": "9ac7e6c8-5131-4b81-a1a0-c390b402490b"
      },
      "source": [
        "str1=str(input(\"Enter a String:\")) \n",
        "length = len(str1) \n",
        "char=str1[0] \n",
        "str1 = str1.replace(char, '$')  \n",
        "str1 = char + str1[1:]  \n",
        "print(str1)"
      ],
      "execution_count": null,
      "outputs": [
        {
          "output_type": "stream",
          "text": [
            "Enter a String:Jayasree Jayanthi\n",
            "Jayasree $ayanthi\n"
          ],
          "name": "stdout"
        }
      ]
    },
    {
      "cell_type": "markdown",
      "metadata": {
        "id": "LhiYC9KPA9I1"
      },
      "source": [
        "# **4 c. Write a Python program to count the number of lines in a text file.**"
      ]
    },
    {
      "cell_type": "code",
      "metadata": {
        "colab": {
          "base_uri": "https://localhost:8080/"
        },
        "id": "tXM69mUW-7sj",
        "outputId": "4e7953f6-a5fb-411b-d129-42bb4757990e"
      },
      "source": [
        "file = open(\"file.txt\",\"r\") \n",
        "count = 0\n",
        "content = file.read() \n",
        "file = content.split(\"\\n\")   \n",
        "for i in file: \n",
        "    if i: \n",
        "        count += 1          \n",
        "print(\"The number of lines in the file are: \") \n",
        "print(count) "
      ],
      "execution_count": null,
      "outputs": [
        {
          "output_type": "stream",
          "text": [
            "The number of lines in the file are: \n",
            "5\n"
          ],
          "name": "stdout"
        }
      ]
    },
    {
      "cell_type": "markdown",
      "metadata": {
        "id": "tHFLpGHHBNmj"
      },
      "source": [
        "# **4 d. Write a Python program to copy the contents of a file to another file.**"
      ]
    },
    {
      "cell_type": "code",
      "metadata": {
        "id": "nAKJvYWQAMRv"
      },
      "source": [
        "new_file = open(\"OutputFile.txt\", \"w\")\n",
        "with open(\"file.txt\", \"r\") as f:\n",
        "    new_file.write(f.read())\n",
        "new_file.close()"
      ],
      "execution_count": null,
      "outputs": []
    }
  ]
}